{
 "cells": [
  {
   "cell_type": "code",
   "execution_count": 1,
   "metadata": {},
   "outputs": [
    {
     "name": "stdout",
     "output_type": "stream",
     "text": [
      "0 apple\n",
      "1 banana\n",
      "2 cherry\n"
     ]
    },
    {
     "data": {
      "text/plain": [
       "'\\n    output:\\n    0 apple\\n    1 banana\\n    2 cherry\\n'"
      ]
     },
     "execution_count": 1,
     "metadata": {},
     "output_type": "execute_result"
    }
   ],
   "source": [
    "\"\"\"\n",
    "1. enumerate()\n",
    "\n",
    "    enumerate(iterable, start=0)\n",
    "\"\"\"\n",
    "\n",
    "fruits = [\"apple\", \"banana\", \"cherry\"]\n",
    "for index, fruit in enumerate(fruits):\n",
    "    print(index, fruit)\n",
    "\n",
    "\"\"\"\n",
    "    output:\n",
    "    0 apple\n",
    "    1 banana\n",
    "    2 cherry\n",
    "\"\"\"\n"
   ]
  },
  {
   "cell_type": "code",
   "execution_count": 8,
   "metadata": {},
   "outputs": [
    {
     "name": "stdout",
     "output_type": "stream",
     "text": [
      "Hello Earth, Earth is beautiful!\n",
      "Hello Earth, world is beautiful!\n"
     ]
    }
   ],
   "source": [
    "\"\"\"\n",
    "2. replace()\n",
    "\n",
    "  string.replace(old, new, count)\n",
    "\n",
    "\"\"\"\n",
    "\n",
    "text = \"Hello world, world is beautiful!\"\n",
    "new_text = text.replace(\"world\", \"Earth\")\n",
    "print(new_text)\n",
    "# Output: \"Hello Earth, Earth is beautiful!\"\n",
    "\n",
    "text_2 = \"Hello world, world is beautiful!\"\n",
    "\n",
    "# Replacing only the first occurrence\n",
    "limited_text = text_2.replace(\"world\", \"Earth\", 1)\n",
    "print(limited_text)\n",
    "# Output: \"Hello Earth, world is beautiful!\""
   ]
  },
  {
   "cell_type": "code",
   "execution_count": 9,
   "metadata": {},
   "outputs": [
    {
     "name": "stdout",
     "output_type": "stream",
     "text": [
      "Hello World!\n",
      "Hello World\n",
      "Hello World!   \n",
      "   Hello World!\n"
     ]
    }
   ],
   "source": [
    "\"\"\"\"\n",
    "3. strip()\n",
    "\n",
    "    string.strip(characters)\n",
    "\"\"\"\n",
    "\n",
    "text = \"   Hello World!   \"\n",
    "cleaned_text = text.strip()\n",
    "print(cleaned_text)\n",
    "# Output: \"Hello World!\"\n",
    "\n",
    "# Removing specific characters\n",
    "text_with_symbols = \"***Hello World!!!***\"\n",
    "cleaned_symbols = text_with_symbols.strip(\"*!\")\n",
    "print(cleaned_symbols)\n",
    "# Output: \"Hello World\"\n",
    "\n",
    "# Using `lstrip()` and `rstrip()` to remove only from left or right\n",
    "left_stripped = text.lstrip()\n",
    "right_stripped = text.rstrip()\n",
    "print(left_stripped)  # \"Hello World!   \"\n",
    "print(right_stripped) # \"   Hello World!\""
   ]
  },
  {
   "cell_type": "code",
   "execution_count": 10,
   "metadata": {},
   "outputs": [
    {
     "name": "stdout",
     "output_type": "stream",
     "text": [
      "Hello, Earth! Earth!\n"
     ]
    }
   ],
   "source": [
    "\"\"\"\"\n",
    "4. using replace and strip together\n",
    "\"\"\"\n",
    "\n",
    "raw_text = \"   Hello, world! world!   \"\n",
    "cleaned_text = raw_text.strip().replace(\"world\", \"Earth\")\n",
    "print(cleaned_text)\n",
    "# Output: \"Hello, Earth! Earth!\""
   ]
  },
  {
   "cell_type": "code",
   "execution_count": 16,
   "metadata": {},
   "outputs": [
    {
     "name": "stdout",
     "output_type": "stream",
     "text": [
      "[('Alice', 25), ('Bob', 30), ('Charlie', 35)]\n",
      "<class 'tuple'>\n",
      "Alice is 25 years old.\n",
      "Bob is 30 years old.\n",
      "Charlie is 35 years old.\n"
     ]
    }
   ],
   "source": [
    "\"\"\"\n",
    "5a. zip()\n",
    "\n",
    "  zip(iterable1, iterable2, ...)\n",
    "\n",
    "\"\"\"\n",
    "\n",
    "names = [\"Alice\", \"Bob\", \"Charlie\"]\n",
    "ages = [25, 30, 35]\n",
    "\n",
    "zipped = list(zip(names, ages))\n",
    "print(zipped)\n",
    "\n",
    "print(type(zipped[0]))\n",
    "\n",
    "# using for loop with zip\n",
    "for name, age in zip(names, ages):\n",
    "    print(f\"{name} is {age} years old.\")\n",
    "\n"
   ]
  },
  {
   "cell_type": "code",
   "execution_count": 17,
   "metadata": {},
   "outputs": [
    {
     "name": "stdout",
     "output_type": "stream",
     "text": [
      "[('Alice', 25, 'New York'), ('Bob', 30, 'Los Angeles'), ('Charlie', 35, 'San Francisco')]\n"
     ]
    }
   ],
   "source": [
    "\"\"\"\n",
    "\n",
    "5b.Using zip() with Three or More Iterables\n",
    "\n",
    "\"\"\"\n",
    "\n",
    "names = [\"Alice\", \"Bob\", \"Charlie\"]\n",
    "ages = [25, 30, 35]\n",
    "cities = [\"New York\", \"Los Angeles\", \"San Francisco\"]\n",
    "\n",
    "zipped = zip(names, ages, cities)\n",
    "print(list(zipped))"
   ]
  },
  {
   "cell_type": "code",
   "execution_count": 21,
   "metadata": {},
   "outputs": [
    {
     "name": "stdout",
     "output_type": "stream",
     "text": [
      "('Alice', 'Bob', 'Charlie')\n",
      "(25, 30, 35)\n",
      "('New York', 'Los Angeles', 'San Francisco')\n"
     ]
    }
   ],
   "source": [
    "\"\"\"\n",
    "\n",
    "5c. Unzipping with zip()\n",
    "\n",
    "\"\"\"\n",
    "\n",
    "zipped_list = [('Alice', 25, 'New York'), ('Bob', 30, 'Los Angeles'), ('Charlie', 35, 'San Francisco')]\n",
    "names, ages, cities = zip(*zipped_list)\n",
    "\n",
    "print(names)  # ('Alice', 'Bob', 'Charlie')\n",
    "print(ages)   # (25, 30, 35)\n",
    "print(cities) # ('New York', 'Los Angeles', 'Chicago')\n"
   ]
  },
  {
   "cell_type": "code",
   "execution_count": 22,
   "metadata": {},
   "outputs": [
    {
     "name": "stdout",
     "output_type": "stream",
     "text": [
      "('Alice', 'Bob', 'Charlie')\n",
      "(85, 90, 78)\n"
     ]
    }
   ],
   "source": [
    "\"\"\"\n",
    "5c. Using zip() with dictionaries\n",
    "\"\"\"\n",
    "\n",
    "student_scores = {\"Alice\": 85, \"Bob\": 90, \"Charlie\": 78}\n",
    "names, scores = zip(*student_scores.items())\n",
    "\n",
    "print(names)   # ('Alice', 'Bob', 'Charlie')\n",
    "print(scores)  # (85, 90, 78)"
   ]
  },
  {
   "cell_type": "code",
   "execution_count": null,
   "metadata": {},
   "outputs": [],
   "source": []
  }
 ],
 "metadata": {
  "kernelspec": {
   "display_name": "Python 3",
   "language": "python",
   "name": "python3"
  },
  "language_info": {
   "codemirror_mode": {
    "name": "ipython",
    "version": 3
   },
   "file_extension": ".py",
   "mimetype": "text/x-python",
   "name": "python",
   "nbconvert_exporter": "python",
   "pygments_lexer": "ipython3",
   "version": "3.12.8"
  }
 },
 "nbformat": 4,
 "nbformat_minor": 2
}
