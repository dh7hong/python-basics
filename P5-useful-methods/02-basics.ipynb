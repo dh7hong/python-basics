{
 "cells": [
  {
   "cell_type": "code",
   "execution_count": 1,
   "metadata": {},
   "outputs": [
    {
     "name": "stdout",
     "output_type": "stream",
     "text": [
      "True\n",
      "False\n",
      "False\n"
     ]
    }
   ],
   "source": [
    "text = \"HelloWorld\"\n",
    "print(text.isalpha())  # True\n",
    "\n",
    "text = \"Hello123\"\n",
    "print(text.isalpha())  # False (contains numbers)\n",
    "\n",
    "text = \"Hello World\"\n",
    "print(text.isalpha())  # False (contains space)"
   ]
  },
  {
   "cell_type": "code",
   "execution_count": 2,
   "metadata": {},
   "outputs": [
    {
     "name": "stdout",
     "output_type": "stream",
     "text": [
      "5\n",
      "[1, 2, 3, 4]\n",
      "banana\n",
      "['apple', 'cherry', 'date']\n",
      "5\n",
      "4\n",
      "3\n",
      "2\n",
      "1\n"
     ]
    }
   ],
   "source": [
    "# Removing the last element (default behavior)\n",
    "numbers = [1, 2, 3, 4, 5]\n",
    "last_item = numbers.pop()\n",
    "print(last_item)  # Output: 5\n",
    "print(numbers)    # Output: [1, 2, 3, 4]\n",
    "\n",
    "# Removing an element at a specific index\n",
    "fruits = [\"apple\", \"banana\", \"cherry\", \"date\"]\n",
    "removed_fruit = fruits.pop(1)\n",
    "print(removed_fruit)  # Output: 'banana'\n",
    "print(fruits)         # Output: ['apple', 'cherry', 'date']\n",
    "\n",
    "#Using .pop() in a loop\n",
    "stack = [1, 2, 3, 4, 5]\n",
    "while stack:\n",
    "    print(stack.pop())  # Removes and prints elements from the end"
   ]
  },
  {
   "cell_type": "markdown",
   "metadata": {},
   "source": [
    "#### Lambda Functions"
   ]
  },
  {
   "cell_type": "code",
   "execution_count": 1,
   "metadata": {},
   "outputs": [
    {
     "name": "stdout",
     "output_type": "stream",
     "text": [
      "{'dave', 'alice', 'charlie'}\n"
     ]
    }
   ],
   "source": [
    "id_list = [\"alice\", \"bob\", \"charlie\", \"dave\"]\n",
    "report_count = {\n",
    "    \"alice\": 3,\n",
    "    \"bob\": 1,\n",
    "    \"charlie\": 5,\n",
    "    \"dave\": 2\n",
    "}\n",
    "k = 2\n",
    "\n",
    "suspended_users = set(filter(lambda user: report_count[user] >= k, id_list))\n",
    "\n",
    "print(suspended_users)"
   ]
  },
  {
   "cell_type": "code",
   "execution_count": null,
   "metadata": {},
   "outputs": [],
   "source": []
  }
 ],
 "metadata": {
  "kernelspec": {
   "display_name": "Python 3",
   "language": "python",
   "name": "python3"
  },
  "language_info": {
   "codemirror_mode": {
    "name": "ipython",
    "version": 3
   },
   "file_extension": ".py",
   "mimetype": "text/x-python",
   "name": "python",
   "nbconvert_exporter": "python",
   "pygments_lexer": "ipython3",
   "version": "3.12.8"
  }
 },
 "nbformat": 4,
 "nbformat_minor": 2
}
