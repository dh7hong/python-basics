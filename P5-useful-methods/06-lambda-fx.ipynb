{
 "cells": [
  {
   "cell_type": "markdown",
   "metadata": {},
   "source": [
    "#### Lambda Functions"
   ]
  },
  {
   "cell_type": "code",
   "execution_count": 1,
   "metadata": {},
   "outputs": [
    {
     "name": "stdout",
     "output_type": "stream",
     "text": [
      "{'alice', 'dave', 'charlie'}\n"
     ]
    }
   ],
   "source": [
    "id_list = [\"alice\", \"bob\", \"charlie\", \"dave\"]\n",
    "report_count = {\n",
    "    \"alice\": 3,\n",
    "    \"bob\": 1,\n",
    "    \"charlie\": 5,\n",
    "    \"dave\": 2\n",
    "}\n",
    "k = 2\n",
    "\n",
    "suspended_users = set(filter(lambda user: report_count[user] >= k, id_list))\n",
    "\n",
    "print(suspended_users)"
   ]
  },
  {
   "cell_type": "code",
   "execution_count": null,
   "metadata": {},
   "outputs": [],
   "source": []
  }
 ],
 "metadata": {
  "kernelspec": {
   "display_name": "Python 3",
   "language": "python",
   "name": "python3"
  },
  "language_info": {
   "codemirror_mode": {
    "name": "ipython",
    "version": 3
   },
   "file_extension": ".py",
   "mimetype": "text/x-python",
   "name": "python",
   "nbconvert_exporter": "python",
   "pygments_lexer": "ipython3",
   "version": "3.12.8"
  }
 },
 "nbformat": 4,
 "nbformat_minor": 2
}
