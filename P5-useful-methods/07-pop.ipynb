{
 "cells": [
  {
   "cell_type": "code",
   "execution_count": null,
   "metadata": {},
   "outputs": [
    {
     "name": "stdout",
     "output_type": "stream",
     "text": [
      "5\n",
      "[1, 2, 3, 4]\n",
      "banana\n",
      "['apple', 'cherry', 'date']\n",
      "5\n",
      "4\n",
      "3\n",
      "2\n",
      "1\n"
     ]
    }
   ],
   "source": [
    "# Removing the last element (default behavior)\n",
    "numbers = [1, 2, 3, 4, 5]\n",
    "last_item = numbers.pop()\n",
    "print(last_item)  # Output: 5\n",
    "print(numbers)    # Output: [1, 2, 3, 4]\n",
    "\n",
    "# Removing an element at a specific index\n",
    "fruits = [\"apple\", \"banana\", \"cherry\", \"date\"]\n",
    "removed_fruit = fruits.pop(1)\n",
    "print(removed_fruit)  # Output: 'banana'\n",
    "print(fruits)         # Output: ['apple', 'cherry', 'date']\n",
    "\n",
    "#Using .pop() in a loop\n",
    "stack = [1, 2, 3, 4, 5]\n",
    "while stack:\n",
    "    print(stack.pop())  # Removes and prints elements from the end"
   ]
  },
  {
   "cell_type": "code",
   "execution_count": null,
   "metadata": {},
   "outputs": [],
   "source": []
  }
 ],
 "metadata": {
  "language_info": {
   "name": "python"
  }
 },
 "nbformat": 4,
 "nbformat_minor": 2
}
