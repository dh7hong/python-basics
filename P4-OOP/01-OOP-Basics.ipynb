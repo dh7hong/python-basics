{
 "cells": [
  {
   "cell_type": "markdown",
   "metadata": {},
   "source": [
    "## Object-Oriented Programming (OOP)\n",
    "##### 1. What is OOP?\n",
    "##### Object-Oriented Programming is a paradigm based on objects that encapsulate data and methods.\n",
    "\n",
    "##### Key Concepts\n",
    "###### Class: A blueprint for creating objects.\n",
    "###### Object: An instance of a class.\n",
    "###### Attributes: Variables associated with an object.\n",
    "###### Methods: Functions defined in a class."
   ]
  },
  {
   "cell_type": "markdown",
   "metadata": {},
   "source": [
    "##### 1.1 Creating a Class"
   ]
  },
  {
   "cell_type": "code",
   "execution_count": 6,
   "metadata": {},
   "outputs": [
    {
     "name": "stdout",
     "output_type": "stream",
     "text": [
      "Alice is 25 years old\n"
     ]
    }
   ],
   "source": [
    "class Person:\n",
    "    def __init__(self, name, age):\n",
    "        self.name = name\n",
    "        self.age = age\n",
    "\n",
    "# Create an object of the Person class\n",
    "person = Person(\"Alice\", 25)\n",
    "print(person.name, \"is\", person.age, \"years old\") # same as print(f\"{person.name} is {person.age} years old\")"
   ]
  },
  {
   "cell_type": "code",
   "execution_count": 5,
   "metadata": {},
   "outputs": [
    {
     "name": "stdout",
     "output_type": "stream",
     "text": [
      "63 building is 100 meters wide, 150 meters long, and has 63 floors.\n"
     ]
    }
   ],
   "source": [
    "class Building:\n",
    "    def __init__(self, width, length, height):\n",
    "        self.width = width\n",
    "        self.length = length\n",
    "        self.height = height\n",
    "\n",
    "building63 = Building(\"100 meters\", \"150 meters\", \"63 floors\") # Create an object\n",
    "print(f\"63 building is {building63.width} wide, {building63.length} long, and has {building63.height}.\") # Access object attributes\n"
   ]
  },
  {
   "cell_type": "markdown",
   "metadata": {},
   "source": [
    "##### 1.2 Instance Methods"
   ]
  },
  {
   "cell_type": "code",
   "execution_count": 7,
   "metadata": {},
   "outputs": [
    {
     "name": "stdout",
     "output_type": "stream",
     "text": [
      "Alice 25\n",
      "Hello, my name is Alice.\n"
     ]
    }
   ],
   "source": [
    "class Person:\n",
    "    def __init__(self, name, age):\n",
    "        self.name = name\n",
    "        self.age = age\n",
    "\n",
    "    def greet(self):\n",
    "        return f\"Hello, my name is {self.name}.\"\n",
    "\n",
    "person = Person(\"Alice\", 25)\n",
    "print(person.name, person.age)\n",
    "print(person.greet())"
   ]
  },
  {
   "cell_type": "markdown",
   "metadata": {},
   "source": [
    "##### 1.3 Encapsulation - Private Attributes - Restrict access to certain attributes and methods.\n",
    "\n"
   ]
  },
  {
   "cell_type": "code",
   "execution_count": null,
   "metadata": {},
   "outputs": [
    {
     "name": "stdout",
     "output_type": "stream",
     "text": [
      "1500\n"
     ]
    }
   ],
   "source": [
    "class BankAccount:\n",
    "    def __init__(self, balance):\n",
    "        self.__balance = balance\n",
    "\n",
    "    def deposit(self, amount):\n",
    "        self.__balance += amount # same as self.__balance = self.__balance + amount\n",
    "\n",
    "    def get_balance(self):\n",
    "        return self.__balance # this is the only way to access the balance\n",
    "\n",
    "account = BankAccount(1000)\n",
    "# print(account.__balance) <- this is restricted, it will give an error\n",
    "account.deposit(500)\n",
    "print(account.get_balance()) # <- this is the only way to access the balance"
   ]
  },
  {
   "cell_type": "markdown",
   "metadata": {},
   "source": [
    "##### 1.4 Inheritance - Allows a class to inherit attributes and methods from another class."
   ]
  },
  {
   "cell_type": "code",
   "execution_count": null,
   "metadata": {},
   "outputs": [
    {
     "name": "stdout",
     "output_type": "stream",
     "text": [
      "Woof! Woof!\n",
      "Canine\n"
     ]
    }
   ],
   "source": [
    "class Animal: # this is the parent class\n",
    "    def __init__(self, species):\n",
    "        self.species = species\n",
    "\n",
    "    def make_sound(self):\n",
    "        return \"Some generic sound\"\n",
    "\n",
    "class Dog(Animal):  # this is the child class\n",
    "    def make_sound(self): # the child class can override the parent class method\n",
    "        return \"Woof! Woof!\"\n",
    "\n",
    "dog = Dog(\"Canine\")\n",
    "print(dog.make_sound())\n",
    "print(dog.species)"
   ]
  },
  {
   "cell_type": "markdown",
   "metadata": {},
   "source": [
    "##### 1.5 Polymorphism - Allows methods in a class to have the same name but different behavior."
   ]
  },
  {
   "cell_type": "code",
   "execution_count": null,
   "metadata": {},
   "outputs": [
    {
     "name": "stdout",
     "output_type": "stream",
     "text": [
      "Area: 78.5\n",
      "Area: 24\n"
     ]
    }
   ],
   "source": [
    "class Shape: # Parent class\n",
    "    def area(self):\n",
    "        pass\n",
    "\n",
    "class Circle(Shape): # Child class\n",
    "    def __init__(self, radius): # Child class can also have an __init__ method\n",
    "        self.__radius = radius\n",
    "\n",
    "    def area(self): # Overriding the parent class method\n",
    "        return 3.14 * self.__radius ** 2\n",
    "\n",
    "class Rectangle(Shape): # Child class\n",
    "    def __init__(self, width, height): # Child class can also have an __init__ method\n",
    "        self.__width = width\n",
    "        self.__height = height\n",
    "\n",
    "    def area(self): # Overriding the parent class method\n",
    "        return self.__width * self.__height\n",
    "\n",
    "myCircle = Circle(5)\n",
    "# print(myCircle.__radius) # this is restricted, it will give an error\n",
    "myRectangle = Rectangle(4, 6)\n",
    "# print(myRectangle.__width) # this is restricted, it will give an error\n",
    "# print(myRectangle.__height) # this is restricted, it will give an error\n",
    "\n",
    "print(\"Area of the circle:\", myCircle.area())\n",
    "print(\"Area of the rectangle:\", myRectangle.area())\n",
    "\n",
    "\n",
    "# shapes = [Circle(5), Rectangle(4, 6)]\n",
    "# for shape in shapes:\n",
    "#     print(\"Area:\", shape.area())\n"
   ]
  },
  {
   "cell_type": "markdown",
   "metadata": {},
   "source": [
    "##### 1.6 Abstraction - Hide implementation details using abstract classes."
   ]
  },
  {
   "cell_type": "code",
   "execution_count": 11,
   "metadata": {},
   "outputs": [
    {
     "name": "stdout",
     "output_type": "stream",
     "text": [
      "Meow!\n"
     ]
    }
   ],
   "source": [
    "from abc import ABC, abstractmethod\n",
    "\n",
    "class Animal(ABC):\n",
    "    @abstractmethod\n",
    "    def make_sound(self):\n",
    "        pass\n",
    "\n",
    "class Cat(Animal):\n",
    "    def make_sound(self):\n",
    "        return \"Meow!\"\n",
    "\n",
    "cat = Cat()\n",
    "print(cat.make_sound())"
   ]
  },
  {
   "cell_type": "markdown",
   "metadata": {},
   "source": [
    "##### 1.7 Special Methods - Customize class behavior with \"dunder\" methods."
   ]
  },
  {
   "cell_type": "code",
   "execution_count": 7,
   "metadata": {},
   "outputs": [
    {
     "name": "stdout",
     "output_type": "stream",
     "text": [
      "result Vector(6, 8)\n",
      "result2 Vector(6, 8)\n"
     ]
    }
   ],
   "source": [
    "class Vector:\n",
    "    def __init__(self, x, y):\n",
    "        self.x = x\n",
    "        self.y = y\n",
    "\n",
    "    def __add__(self, other):\n",
    "        return Vector(self.x + other.x, self.y + other.y)\n",
    "\n",
    "    def __repr__(self):\n",
    "        return f\"Vector({self.x}, {self.y})\"\n",
    "        # return f\"my vector is {self.x} and {self.y}\"\n",
    "\n",
    "v1 = Vector(2, 3)\n",
    "v2 = Vector(4, 5)\n",
    "result = v1 + v2\n",
    "print(f\"result {result}\")\n",
    "\n",
    "result2 = v1.__add__(v2)\n",
    "print(f\"result2 {result2}\")\n",
    "\n",
    "# print(v1 + v2)\n",
    "# print(v1)\n"
   ]
  },
  {
   "cell_type": "markdown",
   "metadata": {},
   "source": [
    "##### 1.8 Composition - Combine objects to build complex structures."
   ]
  },
  {
   "cell_type": "code",
   "execution_count": 9,
   "metadata": {},
   "outputs": [
    {
     "name": "stdout",
     "output_type": "stream",
     "text": [
      "Engine started and car is moving\n"
     ]
    }
   ],
   "source": [
    "class Engine:\n",
    "    def start(self):\n",
    "        return \"Engine started\"\n",
    "\n",
    "class Car:\n",
    "    def __init__(self):\n",
    "        self.engine = Engine()\n",
    "\n",
    "    def drive(self):\n",
    "        return self.engine.start() + \" and car is moving\"\n",
    "\n",
    "car = Car()\n",
    "print(car.drive())\n"
   ]
  },
  {
   "cell_type": "markdown",
   "metadata": {},
   "source": []
  }
 ],
 "metadata": {
  "kernelspec": {
   "display_name": "Python 3",
   "language": "python",
   "name": "python3"
  },
  "language_info": {
   "codemirror_mode": {
    "name": "ipython",
    "version": 3
   },
   "file_extension": ".py",
   "mimetype": "text/x-python",
   "name": "python",
   "nbconvert_exporter": "python",
   "pygments_lexer": "ipython3",
   "version": "3.12.8"
  }
 },
 "nbformat": 4,
 "nbformat_minor": 2
}
